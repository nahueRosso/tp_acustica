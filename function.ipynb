{
 "cells": [
  {
   "cell_type": "code",
   "execution_count": 9,
   "metadata": {},
   "outputs": [],
   "source": [
    "import numpy as np"
   ]
  },
  {
   "cell_type": "markdown",
   "metadata": {},
   "source": [
    "### La fórmula de Sabine\n",
    "\n",
    "$$RT_{60} = \\frac{0.161 \\cdot V}{A \\cdot \\alpha}$$\n",
    "\n",
    "- $RT_{60}$ es el tiempo de reverberación en segundos.\n",
    "- $V$ es el volumen del espacio en metros cúbicos.\n",
    "- $A$ es el área total de absorción en metros cuadrados.\n",
    "- $\\alpha$ es la absorción promedio del material en el espacio.\n"
   ]
  },
  {
   "cell_type": "code",
   "execution_count": 10,
   "metadata": {},
   "outputs": [],
   "source": [
    "def sabine(V, A, alpha):\n",
    "    T60 = 0.161 * V / (A * alpha)\n",
    "    return T60"
   ]
  },
  {
   "cell_type": "markdown",
   "metadata": {},
   "source": [
    "### Fórmula de Norris-Eyring\n",
    "$$\n",
    "A = 20 \\log_{10}\\left(1 - e^{-\\frac{d}{343 \\cdot \\alpha \\cdot f}}\\right)\n",
    "$$\n",
    "\n",
    "- $A$ es la absorción en dB.\n",
    "- $d$ es la distancia al material absorbente en metros.\n",
    "- $\\alpha$ es el coeficiente de absorción del material.\n",
    "- $f$ es la frecuencia del sonido en Hz.\n"
   ]
  },
  {
   "cell_type": "code",
   "execution_count": 11,
   "metadata": {},
   "outputs": [],
   "source": [
    "def absorcion_norris_eyring(frecuencia, distancia, coeficiente_absorcion):\n",
    "    # Calcula la absorción en dB\n",
    "    absorcion_dB = 20 * np.log10(1 - np.exp(-distancia / (343 * coeficiente_absorcion * frecuencia)))\n",
    "    return absorcion_dB\n"
   ]
  },
  {
   "cell_type": "markdown",
   "metadata": {},
   "source": [
    "### Fórmula de Fitzroy\n",
    "$$A(f) = 10 \\cdot \\log_{10}\\left(1 + \\frac{2 \\cdot \\pi \\cdot f \\cdot \\alpha}{343}\\right)$$\n"
   ]
  },
  {
   "cell_type": "code",
   "execution_count": 12,
   "metadata": {},
   "outputs": [],
   "source": [
    "def absorcion_fitzroy(frecuencia, coeficiente_absorcion):\n",
    "    # Calcula la absorción en dB\n",
    "    absorcion_dB = 10 * np.log10(1 + (2 * np.pi * frecuencia * coeficiente_absorcion / 343))\n",
    "    return absorcion_dB\n"
   ]
  }
 ],
 "metadata": {
  "kernelspec": {
   "display_name": "AERO",
   "language": "python",
   "name": "python3"
  },
  "language_info": {
   "codemirror_mode": {
    "name": "ipython",
    "version": 3
   },
   "file_extension": ".py",
   "mimetype": "text/x-python",
   "name": "python",
   "nbconvert_exporter": "python",
   "pygments_lexer": "ipython3",
   "version": "3.6.13"
  }
 },
 "nbformat": 4,
 "nbformat_minor": 2
}
