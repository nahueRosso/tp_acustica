{
 "cells": [
  {
   "cell_type": "code",
   "execution_count": null,
   "metadata": {},
   "outputs": [],
   "source": [
    "import scipy.io.wavfile as wav\n",
    "import numpy as np\n",
    "\n",
    "# Carga el archivo WAV\n",
    "frecuencia_muestreo, audio = wav.read('./impulse_responses_db/2200BC model/s1-m1/IR_4000.wav')\n",
    "\n",
    "# Normaliza el audio (opcional)\n",
    "audio = audio.astype(float)\n",
    "audio /= np.max(np.abs(audio))\n",
    "\n",
    "# Convierte el audio en una respuesta de impulso\n",
    "respuesta_impulso = np.zeros(len(audio))\n",
    "respuesta_impulso[0] = 1.0\n",
    "\n",
    "# Procesa la respuesta de impulso o realiza otros cálculos necesarios\n",
    "\n",
    "# Ahora, puedes utilizar 'respuesta_impulso' en tus cálculos posteriores\n",
    "from scipy.fft import fft\n",
    "\n",
    "# Supongamos que 'respuesta_impulso' contiene tus datos de respuesta de impulso\n",
    "respuesta_impulso_fft = fft(respuesta_impulso)\n",
    "\n",
    "# Supongamos que 'respuesta_impulso_fft' es la respuesta en frecuencia\n",
    "# y 'frecuencias' son las frecuencias correspondientes\n",
    "amplitudes = np.abs(respuesta_impulso_fft)\n",
    "rt60 = -60 / np.gradient(20 * np.log10(amplitudes), frecuencias)\n"
   ]
  },
  {
   "cell_type": "code",
   "execution_count": 3,
   "metadata": {},
   "outputs": [
    {
     "name": "stderr",
     "output_type": "stream",
     "text": [
      "c:\\Users\\Usuario\\.conda\\envs\\AERO\\lib\\site-packages\\ipykernel_launcher.py:5: WavFileWarning: Chunk (non-data) not understood, skipping it.\n",
      "  \"\"\"\n"
     ]
    },
    {
     "data": {
      "text/plain": [
       "(32001,)"
      ]
     },
     "execution_count": 3,
     "metadata": {},
     "output_type": "execute_result"
    }
   ],
   "source": [
    "import scipy.io.wavfile as wav\n",
    "import numpy as np\n",
    "\n",
    "# Carga el archivo WAV\n",
    "frecuencia_muestreo, audio = wav.read('./impulse_responses_db/2200BC model/s1-m1/IR_4000.wav')\n",
    "\n",
    "# Normaliza el audio (opcional)\n",
    "audio = audio.astype(float)\n",
    "audio /= np.max(np.abs(audio))\n",
    "\n",
    "# Convierte el audio en una respuesta de impulso\n",
    "respuesta_impulso = np.zeros(len(audio))\n",
    "respuesta_impulso[0] = 1.0\n",
    "\n",
    "# Procesa la respuesta de impulso o realiza otros cálculos necesarios\n",
    "\n",
    "# Ahora, puedes utilizar 'respuesta_impulso' en tus cálculos posteriores\n"
   ]
  },
  {
   "cell_type": "code",
   "execution_count": 4,
   "metadata": {},
   "outputs": [],
   "source": [
    "import numpy as np\n",
    "from scipy.fft import fft\n",
    "\n",
    "# Supongamos que 'respuesta_impulso' contiene tus datos de respuesta de impulso\n",
    "respuesta_impulso_fft = fft(respuesta_impulso)\n"
   ]
  },
  {
   "cell_type": "code",
   "execution_count": 5,
   "metadata": {},
   "outputs": [
    {
     "ename": "NameError",
     "evalue": "name 'frecuencias' is not defined",
     "output_type": "error",
     "traceback": [
      "\u001b[1;31m---------------------------------------------------------------------------\u001b[0m",
      "\u001b[1;31mNameError\u001b[0m                                 Traceback (most recent call last)",
      "\u001b[1;32m<ipython-input-5-3a7d6e9586c3>\u001b[0m in \u001b[0;36m<module>\u001b[1;34m\u001b[0m\n\u001b[0;32m      2\u001b[0m \u001b[1;31m# y 'frecuencias' son las frecuencias correspondientes\u001b[0m\u001b[1;33m\u001b[0m\u001b[1;33m\u001b[0m\u001b[1;33m\u001b[0m\u001b[0m\n\u001b[0;32m      3\u001b[0m \u001b[0mamplitudes\u001b[0m \u001b[1;33m=\u001b[0m \u001b[0mnp\u001b[0m\u001b[1;33m.\u001b[0m\u001b[0mabs\u001b[0m\u001b[1;33m(\u001b[0m\u001b[0mrespuesta_impulso_fft\u001b[0m\u001b[1;33m)\u001b[0m\u001b[1;33m\u001b[0m\u001b[1;33m\u001b[0m\u001b[0m\n\u001b[1;32m----> 4\u001b[1;33m \u001b[0mrt60\u001b[0m \u001b[1;33m=\u001b[0m \u001b[1;33m-\u001b[0m\u001b[1;36m60\u001b[0m \u001b[1;33m/\u001b[0m \u001b[0mnp\u001b[0m\u001b[1;33m.\u001b[0m\u001b[0mgradient\u001b[0m\u001b[1;33m(\u001b[0m\u001b[1;36m20\u001b[0m \u001b[1;33m*\u001b[0m \u001b[0mnp\u001b[0m\u001b[1;33m.\u001b[0m\u001b[0mlog10\u001b[0m\u001b[1;33m(\u001b[0m\u001b[0mamplitudes\u001b[0m\u001b[1;33m)\u001b[0m\u001b[1;33m,\u001b[0m \u001b[0mfrecuencias\u001b[0m\u001b[1;33m)\u001b[0m\u001b[1;33m\u001b[0m\u001b[1;33m\u001b[0m\u001b[0m\n\u001b[0m",
      "\u001b[1;31mNameError\u001b[0m: name 'frecuencias' is not defined"
     ]
    }
   ],
   "source": [
    "# Supongamos que 'respuesta_impulso_fft' es la respuesta en frecuencia\n",
    "# y 'frecuencias' son las frecuencias correspondientes\n",
    "amplitudes = np.abs(respuesta_impulso_fft)\n",
    "rt60 = -60 / np.gradient(20 * np.log10(amplitudes), frecuencias)\n"
   ]
  },
  {
   "cell_type": "code",
   "execution_count": 14,
   "metadata": {},
   "outputs": [
    {
     "name": "stdout",
     "output_type": "stream",
     "text": [
      "[ 7.77719799e+15 -3.11087920e+16 -7.77719799e+15  1.55543960e+16\n",
      "  6.91306488e+15  3.11087920e+16 -2.07391946e+16 -1.55543960e+16\n",
      "  3.11087920e+16  1.03695973e+16]\n"
     ]
    },
    {
     "name": "stderr",
     "output_type": "stream",
     "text": [
      "c:\\Users\\Usuario\\.conda\\envs\\AERO\\lib\\site-packages\\ipykernel_launcher.py:8: WavFileWarning: Chunk (non-data) not understood, skipping it.\n",
      "  \n",
      "c:\\Users\\Usuario\\.conda\\envs\\AERO\\lib\\site-packages\\ipykernel_launcher.py:29: RuntimeWarning: divide by zero encountered in true_divide\n"
     ]
    },
    {
     "data": {
      "image/png": "[encoded data removed]",
      "text/plain": [
       "<Figure size 432x288 with 1 Axes>"
      ]
     },
     "metadata": {
      "needs_background": "light"
     },
     "output_type": "display_data"
    }
   ],
   "source": [
    "import scipy.io.wavfile as wav\n",
    "import numpy as np\n",
    "from scipy.fft import fftfreq\n",
    "import matplotlib.pyplot as plt\n",
    "from scipy.fft import fft\n",
    "\n",
    "# Carga el archivo WAV\n",
    "frecuencia_muestreo, audio = wav.read('./impulse_responses_db/2200BC model/s1-m1/IR_500.wav')\n",
    "\n",
    "# Normaliza el audio (opcional)\n",
    "audio = audio.astype(float)\n",
    "audio /= np.max(np.abs(audio))\n",
    "\n",
    "# Convierte el audio en una respuesta de impulso\n",
    "respuesta_impulso = np.zeros(len(audio))\n",
    "respuesta_impulso[0] = 1.0\n",
    "\n",
    "# Calcula la longitud de la respuesta de impulso\n",
    "N = len(respuesta_impulso)\n",
    "\n",
    "# Genera las frecuencias correspondientes al espectro de frecuencia\n",
    "frecuencias = fftfreq(N, 1/frecuencia_muestreo)\n",
    "\n",
    "# Calcula la transformada de Fourier de la respuesta de impulso\n",
    "respuesta_impulso_fft = fft(respuesta_impulso)\n",
    "\n",
    "# Calcula el RT60\n",
    "amplitudes = np.abs(respuesta_impulso_fft)\n",
    "rt60 = -60 / np.gradient(20 * np.log10(amplitudes), frecuencias)\n",
    "\n",
    "\n",
    "# Filtra las frecuencias positivas\n",
    "frecuencias_positivas = frecuencias[:N // 2]\n",
    "rt60_positivo = rt60[:N // 2]\n",
    "\n",
    "print(rt60_positivo[:10])  # Imprime los primeros 10 valores de rt60_positivo\n",
    "\n",
    "plt.plot(frecuencias_positivas, rt60_positivo)\n",
    "plt.xlabel('Frecuencia (Hz)')\n",
    "plt.ylabel('RT60 (s)')\n",
    "plt.title('Tiempo de Reverberación (RT60) vs. Frecuencia (Positiva)')\n",
    "plt.grid()\n",
    "plt.show()\n"
   ]
  }
 ],
 "metadata": {
  "kernelspec": {
   "display_name": "AERO",
   "language": "python",
   "name": "python3"
  },
  "language_info": {
   "codemirror_mode": {
    "name": "ipython",
    "version": 3
   },
   "file_extension": ".py",
   "mimetype": "text/x-python",
   "name": "python",
   "nbconvert_exporter": "python",
   "pygments_lexer": "ipython3",
   "version": "3.6.13"
  }
 },
 "nbformat": 4,
 "nbformat_minor": 2
}
